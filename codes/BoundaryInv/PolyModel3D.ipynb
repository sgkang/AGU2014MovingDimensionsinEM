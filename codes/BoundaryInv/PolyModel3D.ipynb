{
 "cells": [
  {
   "cell_type": "code",
   "execution_count": 140,
   "metadata": {
    "collapsed": false
   },
   "outputs": [],
   "source": [
    "from SimPEG import *"
   ]
  },
  {
   "cell_type": "code",
   "execution_count": 141,
   "metadata": {
    "collapsed": false
   },
   "outputs": [
    {
     "name": "stdout",
     "output_type": "stream",
     "text": [
      "Populating the interactive namespace from numpy and matplotlib\n"
     ]
    }
   ],
   "source": [
    "%pylab inline"
   ]
  },
  {
   "cell_type": "code",
   "execution_count": 142,
   "metadata": {
    "collapsed": true
   },
   "outputs": [],
   "source": [
    "mesh = Utils.meshutils.readUBCTensorMesh('../../examples/mesh.msh')\n",
    "sigma3D = Utils.meshutils.readUBCTensorModel('../../examples/sigma_realistic.con', mesh3D)"
   ]
  },
  {
   "cell_type": "code",
   "execution_count": 143,
   "metadata": {
    "collapsed": false
   },
   "outputs": [],
   "source": [
    "def viz3D(mesh, sigma):\n",
    "    fig, ax = plt.subplots(1,2, figsize = (12, 5))\n",
    "    vmin = np.log10(Utils.mkvc(sigma).min())\n",
    "    vmax = np.log10(Utils.mkvc(sigma).max())\n",
    "    indy = 21\n",
    "    indz = 21\n",
    "    dat = mesh.plotSlice(np.log10(sigma), ind = indz, normal='Z', ax = ax[0], clim=(-3, -0.5), grid=True, gridOpts={'alpha':0.2})\n",
    "    dat = mesh.plotSlice(np.log10(sigma), ind = indy, normal='Y', ax = ax[1], clim=(-3, -0.5), grid=True, gridOpts={'alpha':0.2})\n",
    "    for i in range(2):\n",
    "        if i==0:\n",
    "            ax[i].set_xlabel('Easting (m)', fontsize = 16)\n",
    "            ax[i].set_ylabel('Northing (m)', fontsize = 16)        \n",
    "            ax[i].set_ylim(-150., 150.)\n",
    "            ax[i].set_xlim(-300., 300.)        \n",
    "            ax[i].set_title(('Depth at %5.2f m')%(mesh.vectorCCz[indz]), fontsize = 16)\n",
    "        elif i==1:\n",
    "            ax[i].set_xlabel('Easting (m)', fontsize = 16)\n",
    "            ax[i].set_ylabel('Depth (m)', fontsize = 16)                \n",
    "            ax[i].set_ylim(-600., -10.)\n",
    "            ax[i].set_xlim(-300., 300.)        \n",
    "            ax[i].set_title(('Northing at %5.2f m')%(mesh.vectorCCy[indy]), fontsize = 16)\n",
    "        cb = plt.colorbar(dat[0], ax=ax[i], orientation = 'horizontal', ticks = [np.arange(6)*0.5-3])\n",
    "        cb.set_label('Log10 conductivity (S/m)', fontsize = 14)"
   ]
  },
  {
   "cell_type": "code",
   "execution_count": 144,
   "metadata": {
    "collapsed": false
   },
   "outputs": [
    {
     "name": "stdout",
     "output_type": "stream",
     "text": [
      "  ---- 3-D TensorMesh ----  \n",
      "   x0: -4198.57\n",
      "   y0: -4098.57\n",
      "   z0: -4198.57\n",
      "  nCx: 54\n",
      "  nCy: 44\n",
      "  nCz: 54\n",
      "   hx: 1133.88, 809.91, 578.51, 413.22, 295.16, 210.83, 150.59, 107.56, 76.83, 54.88, 39.20, 28.00, 30*20.00, 28.00, 39.20, 54.88, 76.83, 107.56, 150.59, 210.83, 295.16, 413.22, 578.51, 809.91, 1133.88\n",
      "   hy: 1133.88, 809.91, 578.51, 413.22, 295.16, 210.83, 150.59, 107.56, 76.83, 54.88, 39.20, 28.00, 20*20.00, 28.00, 39.20, 54.88, 76.83, 107.56, 150.59, 210.83, 295.16, 413.22, 578.51, 809.91, 1133.88\n",
      "   hz: 1133.88, 809.91, 578.51, 413.22, 295.16, 210.83, 150.59, 107.56, 76.83, 54.88, 39.20, 28.00, 30*20.00, 28.00, 39.20, 54.88, 76.83, 107.56, 150.59, 210.83, 295.16, 413.22, 578.51, 809.91, 1133.88\n"
     ]
    }
   ],
   "source": [
    "print mesh3D"
   ]
  },
  {
   "cell_type": "code",
   "execution_count": 145,
   "metadata": {
    "collapsed": false
   },
   "outputs": [
    {
     "data": {
      "image/png": "[encoded data removed]",
      "text/plain": [
       "<matplotlib.figure.Figure at 0x1108b56d0>"
      ]
     },
     "metadata": {},
     "output_type": "display_data"
    }
   ],
   "source": [
    "viz3D(mesh, sigma3D)"
   ]
  },
  {
   "cell_type": "code",
   "execution_count": 146,
   "metadata": {
    "collapsed": true
   },
   "outputs": [],
   "source": [
    "SIGMA = sigma3D.reshape(mesh3D.vnC, order='F')"
   ]
  },
  {
   "cell_type": "code",
   "execution_count": 204,
   "metadata": {
    "collapsed": false
   },
   "outputs": [],
   "source": [
    "ind1z = (mesh3D.vectorCCz >-60) & (mesh3D.vectorCCz <0.)\n",
    "ind2z = (mesh3D.vectorCCz >-160) & (mesh3D.vectorCCz <-60)\n",
    "indy = (mesh3D.vectorCCy >-400) & (mesh3D.vectorCCy <400)\n",
    "actind = np.logical_and((mesh3D.gridCC[:,2] >-160) & (mesh3D.gridCC[:,2] <-60), \n",
    "                       (mesh3D.gridCC[:,1] >-400) & (mesh3D.gridCC[:,1] <400))"
   ]
  },
  {
   "cell_type": "code",
   "execution_count": 205,
   "metadata": {
    "collapsed": false
   },
   "outputs": [
    {
     "data": {
      "text/plain": [
       "(0.0001, 1)"
      ]
     },
     "execution_count": 205,
     "metadata": {},
     "output_type": "execute_result"
    },
    {
     "data": {
      "image/png": "[encoded data removed]",
      "text/plain": [
       "<matplotlib.figure.Figure at 0x1105ec410>"
      ]
     },
     "metadata": {},
     "output_type": "display_data"
    }
   ],
   "source": [
    "fig, ax = plt.subplots(1,1, figsize = (5,5))\n",
    "ax.semilogx(SIGMA[0,0,:].flatten(), mesh3D.vectorCCz, 'k.-')\n",
    "ax.semilogx(SIGMA[0,0,ind1z].flatten(), mesh3D.vectorCCz[ind1z], 'ro')\n",
    "ax.semilogx(SIGMA[0,0,ind2z].flatten(), mesh3D.vectorCCz[ind2z], 'bo')\n",
    "ax.semilogx(np.ones_like(mesh3D.vectorNz[ind2z])*2e-3, mesh3D.vectorNz[ind2z], 'g.')\n",
    "# ax.invert_yaxis()\n",
    "ax.set_ylim(-600., -0.5)\n",
    "ax.set_xlim(1e-4, 1)"
   ]
  },
  {
   "cell_type": "code",
   "execution_count": 208,
   "metadata": {
    "collapsed": true
   },
   "outputs": [],
   "source": [
    "sigma3Dact = sigma3D[actind]"
   ]
  },
  {
   "cell_type": "code",
   "execution_count": 207,
   "metadata": {
    "collapsed": false
   },
   "outputs": [],
   "source": [
    "meshact = Mesh.TensorMesh([mesh.hx, mesh.hy[indy], mesh.hz[ind2z]], x0 = np.r_[mesh.x0[0],mesh3D.vectorNy[indy][0], mesh3D.vectorNz[ind2z][0]])"
   ]
  },
  {
   "cell_type": "code",
   "execution_count": 209,
   "metadata": {
    "collapsed": true
   },
   "outputs": [],
   "source": [
    "from ipywidgets import interact, IntSlider"
   ]
  },
  {
   "cell_type": "code",
   "execution_count": 214,
   "metadata": {
    "collapsed": false
   },
   "outputs": [],
   "source": [
    "def dum(ind):\n",
    "    fig = plt.figure(figsize = (7,3.5))\n",
    "    ax = plt.subplot(111)\n",
    "    meshact.plotSlice(np.log10(sigma3Dact),ind=ind,ax=ax, grid=True, gridOpts={'alpha':0.1, 'color':'k'})\n",
    "    ylim(-400., 400.)\n",
    "    xlim(-950., 950.)        \n",
    "    plt.show()"
   ]
  },
  {
   "cell_type": "code",
   "execution_count": 215,
   "metadata": {
    "collapsed": false
   },
   "outputs": [
    {
     "data": {
      "image/png": "[encoded data removed]",
      "text/plain": [
       "<matplotlib.figure.Figure at 0x1107a8ad0>"
      ]
     },
     "metadata": {},
     "output_type": "display_data"
    },
    {
     "data": {
      "text/plain": [
       "None"
      ]
     },
     "metadata": {},
     "output_type": "display_data"
    },
    {
     "data": {
      "text/plain": [
       "<function __main__.dum>"
      ]
     },
     "execution_count": 215,
     "metadata": {},
     "output_type": "execute_result"
    }
   ],
   "source": [
    "interact(dum, ind = IntSlider(min=0, max=4, step=1, value=0))"
   ]
  },
  {
   "cell_type": "code",
   "execution_count": 236,
   "metadata": {
    "collapsed": false
   },
   "outputs": [
    {
     "data": {
      "image/png": "[encoded data removed]",
      "text/plain": [
       "<matplotlib.figure.Figure at 0x10fc128d0>"
      ]
     },
     "metadata": {},
     "output_type": "display_data"
    }
   ],
   "source": [
    "fig = plt.figure(figsize = (7,1.))\n",
    "ax = plt.subplot(111)\n",
    "meshact.plotSlice(np.log10(sigma3Dact),ind=21, normal='Y', ax=ax, grid=True, gridOpts={'alpha':0.2})\n",
    "# meshact.plotSlice(seaind,ind=21, normal='Y', ax=ax, grid=True, gridOpts={'alpha':0.2})\n",
    "ax.set_ylim(-160., -60.)\n",
    "ax.set_xlim(-950., 950.)        \n",
    "plt.show()\n"
   ]
  },
  {
   "cell_type": "code",
   "execution_count": 216,
   "metadata": {
    "collapsed": false
   },
   "outputs": [],
   "source": [
    "SIGMA3DACT = sigma3Dact.reshape((meshact.vnC[0],prod(meshact.vnC[1:])), order='F')\n",
    "XACT = meshact.gridCC[:,0].reshape((meshact.vnC[0],prod(meshact.vnC[1:])), order='F')\n",
    "seaind = sigma3Dact==sigma3Dact.max()\n",
    "SEAIND = seaind.reshape((meshact.vnC[0],prod(meshact.vnC[1:])), order='F')"
   ]
  },
  {
   "cell_type": "code",
   "execution_count": 249,
   "metadata": {
    "collapsed": false
   },
   "outputs": [],
   "source": [
    "yzX = np.zeros(prod(meshact.vnC[1:]))\n",
    "for i in range(prod(meshact.vnC[1:])):\n",
    "    yzX[i] = XACT[SEAIND[:,i],i].min()"
   ]
  },
  {
   "cell_type": "code",
   "execution_count": 250,
   "metadata": {
    "collapsed": false
   },
   "outputs": [],
   "source": [
    "YZX = yzX.reshape((meshact.vnC[1:]), order='F')\n",
    "YZ = Utils.ndgrid(meshact.vectorCCy, meshact.vectorCCz)"
   ]
  },
  {
   "cell_type": "code",
   "execution_count": 253,
   "metadata": {
    "collapsed": false
   },
   "outputs": [],
   "source": [
    "from numpy.polynomial import polynomial"
   ]
  },
  {
   "cell_type": "code",
   "execution_count": 276,
   "metadata": {
    "collapsed": false
   },
   "outputs": [],
   "source": [
    "V = polynomial.polyvander2d(YZ[:,0], YZ[:,1], [3, 1])"
   ]
  },
  {
   "cell_type": "code",
   "execution_count": null,
   "metadata": {
    "collapsed": true
   },
   "outputs": [],
   "source": []
  },
  {
   "cell_type": "code",
   "execution_count": 277,
   "metadata": {
    "collapsed": false
   },
   "outputs": [],
   "source": [
    "H = np.dot(V.T, V)\n",
    "g = np.dot(V.T, yzX)\n",
    "mest = np.linalg.solve(H, g)"
   ]
  },
  {
   "cell_type": "code",
   "execution_count": 278,
   "metadata": {
    "collapsed": false
   },
   "outputs": [],
   "source": [
    "out = V.dot(mest)\n",
    "OUT = out.reshape((meshact.vnC[1:]), order='F')"
   ]
  },
  {
   "cell_type": "code",
   "execution_count": 279,
   "metadata": {
    "collapsed": false
   },
   "outputs": [
    {
     "data": {
      "text/plain": [
       "(-400.0, 400.0, -150.0, -60.0)"
      ]
     },
     "execution_count": 279,
     "metadata": {},
     "output_type": "execute_result"
    },
    {
     "data": {
      "image/png": "[encoded data removed]",
      "text/plain": [
       "<matplotlib.figure.Figure at 0x1105d5110>"
      ]
     },
     "metadata": {},
     "output_type": "display_data"
    }
   ],
   "source": [
    "fig = plt.figure(figsize = (9,2.4))\n",
    "ax = plt.subplot(211)\n",
    "ax.contourf(YZ[:,0].reshape((meshact.vnC[1:]), order='F'), YZ[:,1].reshape((meshact.vnC[1:]), order='F'), YZX)\n",
    "ax.axis('equal')\n",
    "ax1 = plt.subplot(212)\n",
    "ax1.contourf(YZ[:,0].reshape((meshact.vnC[1:]), order='F'), YZ[:,1].reshape((meshact.vnC[1:]), order='F'), OUT)\n",
    "ax1.axis('equal')"
   ]
  },
  {
   "cell_type": "code",
   "execution_count": 275,
   "metadata": {
    "collapsed": false
   },
   "outputs": [
    {
     "data": {
      "text/plain": [
       "[<matplotlib.lines.Line2D at 0x111b5fd90>]"
      ]
     },
     "execution_count": 275,
     "metadata": {},
     "output_type": "execute_result"
    },
    {
     "data": {
      "image/png": "[encoded data removed]",
      "text/plain": [
       "<matplotlib.figure.Figure at 0x1105d5610>"
      ]
     },
     "metadata": {},
     "output_type": "display_data"
    }
   ],
   "source": [
    "plot(yzX, 'k')\n",
    "plot(out, 'k.')"
   ]
  },
  {
   "cell_type": "code",
   "execution_count": 266,
   "metadata": {
    "collapsed": false
   },
   "outputs": [
    {
     "data": {
      "text/plain": [
       "(12,)"
      ]
     },
     "execution_count": 266,
     "metadata": {},
     "output_type": "execute_result"
    }
   ],
   "source": [
    "mest.shape"
   ]
  },
  {
   "cell_type": "code",
   "execution_count": null,
   "metadata": {
    "collapsed": true
   },
   "outputs": [],
   "source": []
  }
 ],
 "metadata": {
  "kernelspec": {
   "display_name": "Python 2",
   "language": "python",
   "name": "python2"
  },
  "language_info": {
   "codemirror_mode": {
    "name": "ipython",
    "version": 2
   },
   "file_extension": ".py",
   "mimetype": "text/x-python",
   "name": "python",
   "nbconvert_exporter": "python",
   "pygments_lexer": "ipython2",
   "version": "2.7.10"
  }
 },
 "nbformat": 4,
 "nbformat_minor": 0
}
