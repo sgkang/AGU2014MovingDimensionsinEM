{
 "cells": [
  {
   "cell_type": "code",
   "execution_count": 1,
   "metadata": {
    "collapsed": false
   },
   "outputs": [
    {
     "name": "stderr",
     "output_type": "stream",
     "text": [
      "Vendor:  Continuum Analytics, Inc.\n",
      "Package: mkl\n",
      "Message: trial mode expires in 10 days\n"
     ]
    }
   ],
   "source": [
    "from SimPEG import *\n",
    "import simpegDCIP as DC"
   ]
  },
  {
   "cell_type": "code",
   "execution_count": 2,
   "metadata": {
    "collapsed": false
   },
   "outputs": [
    {
     "name": "stdout",
     "output_type": "stream",
     "text": [
      "Populating the interactive namespace from numpy and matplotlib\n"
     ]
    }
   ],
   "source": [
    "%pylab inline"
   ]
  },
  {
   "cell_type": "code",
   "execution_count": 3,
   "metadata": {
    "collapsed": false
   },
   "outputs": [],
   "source": [
    "from numpy.polynomial import polynomial"
   ]
  },
  {
   "cell_type": "code",
   "execution_count": 4,
   "metadata": {
    "collapsed": false
   },
   "outputs": [],
   "source": [
    "cs = 0.5\n",
    "mesh = Mesh.TensorMesh([np.ones(100)*cs, np.ones(50)*cs], \"CN\")\n",
    "x = mesh.vectorCCx"
   ]
  },
  {
   "cell_type": "code",
   "execution_count": 5,
   "metadata": {
    "collapsed": true
   },
   "outputs": [],
   "source": [
    "actx = (x>-15.)&(x<15.)"
   ]
  },
  {
   "cell_type": "code",
   "execution_count": 6,
   "metadata": {
    "collapsed": false
   },
   "outputs": [],
   "source": [
    "c = np.r_[0,1,2,1,-1,-3]\n",
    "V = polynomial.polyvander(x, 3)\n",
    "# dobs = V.dot(c)\n",
    "dobs1 = 1.5*np.sin(0.2*x)\n",
    "dobs2 = 1.5*np.sin(0.4*x)-3\n",
    "dobs = dobs1+dobs2\n",
    "# dobs = x*0.25"
   ]
  },
  {
   "cell_type": "code",
   "execution_count": 7,
   "metadata": {
    "collapsed": false
   },
   "outputs": [],
   "source": [
    "H = np.dot(V.T, V)\n",
    "g = np.dot(V.T, dobs)\n",
    "mest = np.linalg.solve(H, g)"
   ]
  },
  {
   "cell_type": "code",
   "execution_count": 8,
   "metadata": {
    "collapsed": false
   },
   "outputs": [],
   "source": [
    "dpred = V.dot(mest)"
   ]
  },
  {
   "cell_type": "code",
   "execution_count": 9,
   "metadata": {
    "collapsed": false
   },
   "outputs": [
    {
     "data": {
      "text/plain": [
       "[<matplotlib.lines.Line2D at 0x10de21cd0>]"
      ]
     },
     "execution_count": 9,
     "metadata": {},
     "output_type": "execute_result"
    },
    {
     "data": {
      "image/png": "[encoded data removed]",
      "text/plain": [
       "<matplotlib.figure.Figure at 0x10de0ce50>"
      ]
     },
     "metadata": {},
     "output_type": "display_data"
    }
   ],
   "source": [
    "# plot(dobs1, 'k-')\n",
    "# plot(dobs2, 'k.')\n",
    "plot(dobs, 'b')\n",
    "plot(dpred, 'k.')"
   ]
  },
  {
   "cell_type": "markdown",
   "metadata": {},
   "source": [
    "\\begin{eqnarray}\n",
    "    m = e^{m_1} + (e^{m_2}-e^{m_1})(\\frac{tan^{-1}(\\alpha \\ f(\\vec{r},c))}{\\pi}+0.5) \n",
    "\\end{eqnarray}"
   ]
  },
  {
   "cell_type": "markdown",
   "metadata": {},
   "source": [
    "\\begin{align*}\n",
    "        \\frac{\\partial m}{\\partial m_1} = e^{m_1}-e^{m_1}tan^{-1}(\\frac{\\alpha \\ f}{\\pi}+0.5)\n",
    "\\end{align*}"
   ]
  },
  {
   "cell_type": "markdown",
   "metadata": {},
   "source": [
    "\\begin{align*}\n",
    "        \\frac{\\partial m}{\\partial m_2} = e^{m_2}tan^{-1}(\\frac{\\alpha \\ f}{\\pi}+0.5)\n",
    "\\end{align*}"
   ]
  },
  {
   "cell_type": "markdown",
   "metadata": {},
   "source": [
    "\\begin{align*}\n",
    "        \\frac{\\partial m}{\\partial c} = (e^{m_2}-e^{m_1})\\frac{\\partial f}{\\partial c}\\frac{\\alpha}{1+(\\alpha f)^2}\\frac{1}{\\pi}\n",
    "\\end{align*}"
   ]
  },
  {
   "cell_type": "markdown",
   "metadata": {},
   "source": [
    "# Step1: Check derivative for \"c\""
   ]
  },
  {
   "cell_type": "code",
   "execution_count": 10,
   "metadata": {
    "collapsed": false
   },
   "outputs": [
    {
     "name": "stdout",
     "output_type": "stream",
     "text": [
      "==================== checkDerivative ====================\n",
      "iter    h         |ft-f0|   |ft-f0-h*J0*dx|  Order\n",
      "---------------------------------------------------------\n",
      " 0   1.00e-01    3.094e-01     3.773e-15      nan\n",
      " 1   1.00e-02    3.094e-02     4.012e-15      -0.027\n",
      " 2   1.00e-03    3.094e-03     4.142e-15      -0.014\n",
      " 3   1.00e-04    3.094e-04     3.840e-15      0.033\n",
      " 4   1.00e-05    3.094e-05     3.793e-15      0.005\n",
      " 5   1.00e-06    3.094e-06     3.841e-15      -0.006\n",
      " 6   1.00e-07    3.094e-07     3.818e-15      0.003\n",
      "========================= PASS! =========================\n",
      "Well done Sgkang!\n",
      "\n"
     ]
    },
    {
     "data": {
      "image/png": "[encoded data removed]",
      "text/plain": [
       "<matplotlib.figure.Figure at 0x10df17890>"
      ]
     },
     "metadata": {},
     "output_type": "display_data"
    },
    {
     "data": {
      "text/plain": [
       "True"
      ]
     },
     "execution_count": 10,
     "metadata": {},
     "output_type": "execute_result"
    }
   ],
   "source": [
    "kernel =  lambda m: V.dot(m)\n",
    "derChk = lambda m: (kernel(m), lambda v: kernel(v) )\n",
    "Tests.checkDerivative(derChk, mest, dx = mest*0.1)"
   ]
  },
  {
   "cell_type": "markdown",
   "metadata": {},
   "source": [
    "# Step2: Check $\\frac{\\partial m}{\\partial c}$ "
   ]
  },
  {
   "cell_type": "code",
   "execution_count": 11,
   "metadata": {
    "collapsed": true
   },
   "outputs": [],
   "source": [
    "def Poly2Dmap(m1, m2, c, xy):\n",
    "    alpha = 1e4\n",
    "    f = polynomial.polyval(xy[:,0], c) - xy[:,1]\n",
    "    m = m1+(m2-m1)*(np.arctan(alpha*f)/np.pi+0.5)\n",
    "    return m"
   ]
  },
  {
   "cell_type": "markdown",
   "metadata": {},
   "source": [
    "\\begin{align*}\n",
    "        \\frac{\\partial m}{\\partial c} = (e^{m_2}-e^{m_1})\\frac{\\partial f}{\\partial c}\\frac{\\alpha}{1+(\\alpha f)^2}\\frac{1}{\\pi}\n",
    "\\end{align*}"
   ]
  },
  {
   "cell_type": "code",
   "execution_count": 12,
   "metadata": {
    "collapsed": true
   },
   "outputs": [],
   "source": [
    "def Poly2DmapDeriv(m1, m2, c, xy):\n",
    "    alpha = 1e4\n",
    "    V = polynomial.polyvander(xy[:,0], len(c)-1)\n",
    "    f = polynomial.polyval(xy[:,0], c) - xy[:,1]    \n",
    "    deriv = Utils.sdiag(alpha*(m2-m1)/(1.+(alpha*f)**2)/np.pi)*V\n",
    "    return deriv"
   ]
  },
  {
   "cell_type": "code",
   "execution_count": 13,
   "metadata": {
    "collapsed": true
   },
   "outputs": [],
   "source": [
    "kernel = lambda x: Poly2Dmap(1., 2., x, mesh.gridCC)\n",
    "kernel_deriv = lambda x: Poly2DmapDeriv(1., 2., x, mesh.gridCC)"
   ]
  },
  {
   "cell_type": "code",
   "execution_count": 14,
   "metadata": {
    "collapsed": false
   },
   "outputs": [
    {
     "name": "stdout",
     "output_type": "stream",
     "text": [
      "==================== checkDerivative ====================\n",
      "iter    h         |ft-f0|   |ft-f0-h*J0*dx|  Order\n",
      "---------------------------------------------------------\n",
      " 0   1.00e-01    2.435e+00     2.364e+00      nan\n",
      " 1   1.00e-02    9.528e-01     9.383e-01      0.401\n",
      " 2   1.00e-03    1.880e-03     2.262e-04      3.618\n",
      " 3   1.00e-04    1.736e-04     2.031e-06      2.047\n",
      " 4   1.00e-05    1.724e-05     2.012e-08      2.004\n",
      " 5   1.00e-06    1.723e-06     2.010e-10      2.000\n",
      " 6   1.00e-07    1.723e-07     2.010e-12      2.000\n",
      "========================= PASS! =========================\n",
      "Happy little convergence test!\n",
      "\n"
     ]
    },
    {
     "data": {
      "image/png": "[encoded data removed]",
      "text/plain": [
       "<matplotlib.figure.Figure at 0x10e69ad50>"
      ]
     },
     "metadata": {},
     "output_type": "display_data"
    },
    {
     "data": {
      "text/plain": [
       "True"
      ]
     },
     "execution_count": 14,
     "metadata": {},
     "output_type": "execute_result"
    }
   ],
   "source": [
    "derChk = lambda m: (kernel(m), lambda v: np.dot(kernel_deriv(m), v) )\n",
    "Tests.checkDerivative(derChk, mest, dx = mest*0.1)"
   ]
  },
  {
   "cell_type": "code",
   "execution_count": 15,
   "metadata": {
    "collapsed": true
   },
   "outputs": [],
   "source": [
    "from SimPEG.Maps import IdentityMap, PolyMap, ActiveCells"
   ]
  },
  {
   "cell_type": "code",
   "execution_count": 16,
   "metadata": {
    "collapsed": true
   },
   "outputs": [],
   "source": [
    "actind = (mesh.gridCC[:,0]>-15.) & (mesh.gridCC[:,0] <15.)"
   ]
  },
  {
   "cell_type": "code",
   "execution_count": 17,
   "metadata": {
    "collapsed": false
   },
   "outputs": [],
   "source": [
    "meshact = Mesh.TensorMesh([mesh.hx[actx],mesh.hy], x0 = np.r_[ -15., mesh.x0[1]])"
   ]
  },
  {
   "cell_type": "code",
   "execution_count": 18,
   "metadata": {
    "collapsed": false
   },
   "outputs": [
    {
     "data": {
      "text/plain": [
       "(<matplotlib.collections.QuadMesh at 0x10f64f190>,)"
      ]
     },
     "execution_count": 18,
     "metadata": {},
     "output_type": "execute_result"
    },
    {
     "data": {
      "image/png": "[encoded data removed]",
      "text/plain": [
       "<matplotlib.figure.Figure at 0x10f4ea850>"
      ]
     },
     "metadata": {},
     "output_type": "display_data"
    }
   ],
   "source": [
    "sigma0 = np.ones(mesh.nC)*1e0\n",
    "sigma0[mesh.gridCC[:,1]>-5] = 1e-2\n",
    "mesh.plotImage(sigma0)"
   ]
  },
  {
   "cell_type": "code",
   "execution_count": 19,
   "metadata": {
    "collapsed": false
   },
   "outputs": [],
   "source": [
    "actmap = ActiveCells(mesh, actind, sigma0)"
   ]
  },
  {
   "cell_type": "code",
   "execution_count": 20,
   "metadata": {
    "collapsed": false
   },
   "outputs": [],
   "source": [
    "weight = (1./(V**2).sum(axis=0))**0.5\n",
    "weight = weight / weight.max()"
   ]
  },
  {
   "cell_type": "code",
   "execution_count": 21,
   "metadata": {
    "collapsed": false
   },
   "outputs": [],
   "source": [
    "m1D = Mesh.TensorMesh([V.shape[1]+2])\n",
    "weightmap = Maps.Weighting(m1D, weights=np.r_[1., 1., weight])"
   ]
  },
  {
   "cell_type": "code",
   "execution_count": 22,
   "metadata": {
    "collapsed": false
   },
   "outputs": [],
   "source": [
    "polymap = PolyMap(mesh, V.shape[1]-1, logSigma=True)"
   ]
  },
  {
   "cell_type": "code",
   "execution_count": 23,
   "metadata": {
    "collapsed": false
   },
   "outputs": [],
   "source": [
    "mapping = polymap*weightmap\n",
    "# mapping = polymap"
   ]
  },
  {
   "cell_type": "code",
   "execution_count": 24,
   "metadata": {
    "collapsed": false
   },
   "outputs": [
    {
     "name": "stdout",
     "output_type": "stream",
     "text": [
      "Testing PolyMap(5000,6)\n",
      "==================== checkDerivative ====================\n",
      "iter    h         |ft-f0|   |ft-f0-h*J0*dx|  Order\n",
      "---------------------------------------------------------\n",
      " 0   1.00e-01    2.566e+01     2.652e+01      nan\n",
      " 1   1.00e-02    4.919e+00     4.924e+00      0.731\n",
      " 2   1.00e-03    1.202e+00     1.201e+00      0.613\n",
      " 3   1.00e-04    8.527e-03     4.682e-03      2.409\n",
      "*********************************************************\n",
      "<<<<<<<<<<<<<<<<<<<<<<<<< FAIL! >>>>>>>>>>>>>>>>>>>>>>>>>\n",
      "*********************************************************\n",
      "Get on it Sgkang!\n",
      "\n"
     ]
    },
    {
     "data": {
      "text/plain": [
       "False"
      ]
     },
     "execution_count": 24,
     "metadata": {},
     "output_type": "execute_result"
    }
   ],
   "source": [
    "polymap.test()"
   ]
  },
  {
   "cell_type": "code",
   "execution_count": 25,
   "metadata": {
    "collapsed": false
   },
   "outputs": [],
   "source": [
    "mtrue = np.r_[np.log(1e-2), np.log(1e0), mest / weight]\n",
    "m0 = np.r_[np.log(1e-2), np.log(1e-2), np.r_[-3., np.zeros(V.shape[1]-1)] / weight]"
   ]
  },
  {
   "cell_type": "code",
   "execution_count": 26,
   "metadata": {
    "collapsed": false
   },
   "outputs": [],
   "source": [
    "# mtrue = np.r_[np.log(1e-2), np.log(1e0), mest]\n",
    "# m0 = np.r_[np.log(1e-2), np.log(1e0), np.r_[-3., np.zeros(V.shape[1]-1)]]"
   ]
  },
  {
   "cell_type": "code",
   "execution_count": 27,
   "metadata": {
    "collapsed": false
   },
   "outputs": [],
   "source": [
    "sigma = mapping*mtrue"
   ]
  },
  {
   "cell_type": "code",
   "execution_count": 28,
   "metadata": {
    "collapsed": false
   },
   "outputs": [],
   "source": [
    "# actind = (mesh.gridCC[:,0] > -15) & (mesh.gridCC[:,0] < 15)\n",
    "# meshact = Mesh.TensorMesh([mesh.hx, mesh.hy], x0=mesh.x0)\n",
    "# actmap = Maps.ActiveCells(mesh, actind, 2e-3)"
   ]
  },
  {
   "cell_type": "code",
   "execution_count": 29,
   "metadata": {
    "collapsed": false
   },
   "outputs": [],
   "source": [
    "xr = np.linspace(-15, 15, 20)\n",
    "xz_A = Utils.ndgrid(xr, np.r_[-0.25])\n",
    "xz_B = Utils.ndgrid(np.ones_like(xr)*22, np.r_[-0.25])\n",
    "xz_M = Utils.ndgrid(xr, np.r_[-0.25])\n",
    "xz_N = Utils.ndgrid(np.ones_like(xr)*-22, np.r_[-0.25])\n",
    "\n",
    "ntx = xz_A.shape[0]\n",
    "txList = []\n",
    "for i in range(ntx):\n",
    "    offset = abs(xz_A[i,0]-xz_M[:,0])\n",
    "    actrx = offset > 5.\n",
    "    rx = DC.RxDipole(xz_M[actrx,:], xz_N[actrx,:])\n",
    "    src = DC.SrcDipole([rx], xz_A[i,:], xz_B[i,:])\n",
    "    txList.append(src)"
   ]
  },
  {
   "cell_type": "code",
   "execution_count": 30,
   "metadata": {
    "collapsed": false
   },
   "outputs": [
    {
     "data": {
      "text/plain": [
       "[<matplotlib.lines.Line2D at 0x10f701e50>]"
      ]
     },
     "execution_count": 30,
     "metadata": {},
     "output_type": "execute_result"
    },
    {
     "data": {
      "image/png": "[encoded data removed]",
      "text/plain": [
       "<matplotlib.figure.Figure at 0x10def11d0>"
      ]
     },
     "metadata": {},
     "output_type": "display_data"
    }
   ],
   "source": [
    "dat = mesh.plotImage(np.log10(sigma), clim=(-2, 0))\n",
    "plt.colorbar(dat[0])\n",
    "plot(xz_A[:,0], xz_A[:,1], 'w.')\n",
    "plot(xz_B[:,0], xz_B[:,1], 'y.')\n",
    "plot(xz_N[:,0], xz_N[:,1], 'r.')"
   ]
  },
  {
   "cell_type": "code",
   "execution_count": 31,
   "metadata": {
    "collapsed": false
   },
   "outputs": [
    {
     "data": {
      "text/plain": [
       "[<matplotlib.lines.Line2D at 0x10f5875d0>]"
      ]
     },
     "execution_count": 31,
     "metadata": {},
     "output_type": "execute_result"
    },
    {
     "data": {
      "image/png": "[encoded data removed]",
      "text/plain": [
       "<matplotlib.figure.Figure at 0x10f624710>"
      ]
     },
     "metadata": {},
     "output_type": "display_data"
    }
   ],
   "source": [
    "dat = mesh.plotImage(np.log10(mapping*m0), clim=(-2, 0))\n",
    "plt.colorbar(dat[0])\n",
    "plot(xz_A[:,0], xz_A[:,1], 'w.')\n",
    "plot(xz_B[:,0], xz_B[:,1], 'y.')\n",
    "plot(xz_N[:,0], xz_N[:,1], 'r.')"
   ]
  },
  {
   "cell_type": "code",
   "execution_count": 32,
   "metadata": {
    "collapsed": false
   },
   "outputs": [],
   "source": [
    "survey = DC.SurveyDC(txList)\n",
    "problem = DC.ProblemDC_CC(mesh, mapping = mapping)\n",
    "problem.pair(survey)"
   ]
  },
  {
   "cell_type": "code",
   "execution_count": 33,
   "metadata": {
    "collapsed": true
   },
   "outputs": [],
   "source": [
    "from pymatsolver import MumpsSolver\n",
    "problem.Solver = MumpsSolver"
   ]
  },
  {
   "cell_type": "code",
   "execution_count": 34,
   "metadata": {
    "collapsed": false
   },
   "outputs": [
    {
     "data": {
      "text/plain": [
       "[<matplotlib.lines.Line2D at 0x10e3a2190>]"
      ]
     },
     "execution_count": 34,
     "metadata": {},
     "output_type": "execute_result"
    },
    {
     "data": {
      "image/png": "[encoded data removed]",
      "text/plain": [
       "<matplotlib.figure.Figure at 0x10f5fb110>"
      ]
     },
     "metadata": {},
     "output_type": "display_data"
    }
   ],
   "source": [
    "dini = survey.dpred(m0)\n",
    "dtrue  = survey.dpred(mtrue)\n",
    "plot(dini)\n",
    "plot(dtrue)"
   ]
  },
  {
   "cell_type": "code",
   "execution_count": 35,
   "metadata": {
    "collapsed": false
   },
   "outputs": [
    {
     "data": {
      "text/plain": [
       "(6,)"
      ]
     },
     "execution_count": 35,
     "metadata": {},
     "output_type": "execute_result"
    }
   ],
   "source": [
    "mtrue.shape"
   ]
  },
  {
   "cell_type": "code",
   "execution_count": 36,
   "metadata": {
    "collapsed": false
   },
   "outputs": [
    {
     "data": {
      "text/plain": [
       "<matplotlib.colorbar.Colorbar instance at 0x10e63bd40>"
      ]
     },
     "execution_count": 36,
     "metadata": {},
     "output_type": "execute_result"
    },
    {
     "data": {
      "image/png": "[encoded data removed]",
      "text/plain": [
       "<matplotlib.figure.Figure at 0x10f5c8450>"
      ]
     },
     "metadata": {},
     "output_type": "display_data"
    }
   ],
   "source": [
    "\n",
    "figsize(14*0.5,7*0.5)\n",
    "circmodelest = mapping*mtrue\n",
    "dat = mesh.plotImage(np.log10(circmodelest))\n",
    "plot(xz_A[:,0], xz_A[:,1], 'w.')\n",
    "plot(xz_B[:,0], xz_B[:,1], 'k.')\n",
    "plot(xz_N[:,0], xz_N[:,1], 'r.')\n",
    "# plot(temp.rxList[0].locs[0][:,0], temp.rxList[0].locs[0][:,1], 'bo')\n",
    "plt.colorbar(dat[0])"
   ]
  },
  {
   "cell_type": "code",
   "execution_count": 37,
   "metadata": {
    "collapsed": false
   },
   "outputs": [],
   "source": [
    "noise = 0.1*abs(dtrue)*np.random.randn(dtrue.shape[0])"
   ]
  },
  {
   "cell_type": "code",
   "execution_count": 38,
   "metadata": {
    "collapsed": false
   },
   "outputs": [
    {
     "name": "stdout",
     "output_type": "stream",
     "text": [
      "SimPEG.InvProblem is setting bfgsH0 to the inverse of the eval2Deriv.\n",
      "                    ***Done using same solver as the problem***\n",
      "============================ Inexact Gauss Newton ============================\n",
      "  #     beta     phi_d     phi_m       f      |proj(x-g)-x|  LS    Comment   \n",
      "-----------------------------------------------------------------------------\n",
      "   0  0.00e+00  3.03e+07  0.00e+00  3.03e+07    5.48e+07      0              \n",
      "   1  0.00e+00  3.76e+06  6.07e-01  3.76e+06    7.39e+06      0              \n",
      "   2  0.00e+00  4.84e+05  2.24e+00  4.84e+05    1.00e+06      0   Skip BFGS  \n",
      "   3  0.00e+00  6.42e+04  4.70e+00  6.42e+04    1.38e+05      0   Skip BFGS  \n",
      "   4  0.00e+00  1.12e+04  7.69e+00  1.12e+04    2.05e+04      0   Skip BFGS  \n",
      "   5  0.00e+00  3.63e+03  1.07e+01  3.63e+03    2.81e+03      0   Skip BFGS  \n",
      "   6  0.00e+00  3.13e+03  1.23e+01  3.13e+03    3.00e+02      0   Skip BFGS  \n",
      "   7  0.00e+00  2.99e+03  1.28e+01  2.99e+03    8.26e+02      4              \n",
      "   8  0.00e+00  2.81e+03  1.23e+01  2.81e+03    1.74e+04      4              \n",
      "   9  0.00e+00  2.75e+03  1.26e+01  2.75e+03    1.92e+03      2              \n",
      "  10  0.00e+00  1.15e+03  1.72e+01  1.15e+03    3.64e+03      0   Skip BFGS  \n",
      "  11  0.00e+00  1.14e+03  1.67e+01  1.14e+03    1.20e+04      6              \n",
      "  12  0.00e+00  1.12e+03  1.64e+01  1.12e+03    1.30e+04      8   Skip BFGS  \n",
      "  13  0.00e+00  5.22e+02  1.67e+01  5.22e+02    2.46e+03      0              \n",
      "  14  0.00e+00  3.64e+02  1.78e+01  3.64e+02    1.28e+03      2              \n",
      "  15  0.00e+00  3.64e+02  1.80e+01  3.64e+02    2.57e+03      3              \n",
      "  16  0.00e+00  3.54e+02  1.85e+01  3.54e+02    7.23e+02      3   Skip BFGS  \n",
      "  17  0.00e+00  3.30e+02  1.81e+01  3.30e+02    1.45e+03      2   Skip BFGS  \n",
      "  18  0.00e+00  2.94e+02  1.89e+01  2.94e+02    1.98e+03      2   Skip BFGS  \n",
      "  19  0.00e+00  2.90e+02  1.91e+01  2.90e+02    1.19e+03      3              \n",
      "  20  0.00e+00  2.84e+02  1.97e+01  2.84e+02    4.59e+03      5   Skip BFGS  \n",
      "  21  0.00e+00  2.84e+02  1.97e+01  2.84e+02    4.70e+03      9   Skip BFGS  \n",
      "  22  0.00e+00  2.84e+02  1.97e+01  2.84e+02    4.38e+03     10   Skip BFGS  \n",
      "  23  0.00e+00  2.84e+02  1.97e+01  2.84e+02    4.60e+03     10              \n",
      "  24  0.00e+00  2.84e+02  1.97e+01  2.84e+02    4.58e+03     11   Skip BFGS  \n",
      "  25  0.00e+00  2.84e+02  1.97e+01  2.84e+02    4.57e+03     12              \n",
      "  26  0.00e+00  2.83e+02  2.07e+01  2.83e+02    1.00e+04      4   Skip BFGS  \n",
      "  27  0.00e+00  2.78e+02  2.07e+01  2.78e+02    1.89e+03      0              \n",
      "  28  0.00e+00  2.64e+02  2.06e+01  2.64e+02    7.64e+02      2              \n",
      "  29  0.00e+00  2.55e+02  2.05e+01  2.55e+02    7.66e+02      2   Skip BFGS  \n",
      "  30  0.00e+00  2.52e+02  2.03e+01  2.52e+02    1.03e+03      1   Skip BFGS  \n",
      "  31  0.00e+00  2.19e+02  2.01e+01  2.19e+02    7.23e+02      0              \n",
      "  32  0.00e+00  2.16e+02  1.98e+01  2.16e+02    1.32e+03      1              \n",
      "  33  0.00e+00  2.13e+02  1.89e+01  2.13e+02    4.04e+03      0   Skip BFGS  \n",
      "  34  0.00e+00  2.11e+02  1.89e+01  2.11e+02    3.08e+02      2              \n",
      "  35  0.00e+00  2.08e+02  1.87e+01  2.08e+02    1.05e+03      0   Skip BFGS  \n",
      "  36  0.00e+00  2.07e+02  1.87e+01  2.07e+02    7.79e+01      0              \n",
      "  37  0.00e+00  2.04e+02  1.78e+01  2.04e+02    1.09e+02      4              \n",
      "  38  0.00e+00  2.03e+02  1.77e+01  2.03e+02    1.49e+02      3              \n",
      "  39  0.00e+00  1.98e+02  1.78e+01  1.98e+02    1.97e+03      0              \n",
      "  40  0.00e+00  1.97e+02  1.82e+01  1.97e+02    7.36e+02      0              \n",
      "  41  0.00e+00  1.87e+02  1.79e+01  1.87e+02    1.03e+03      0              \n",
      "  42  0.00e+00  1.83e+02  1.80e+01  1.83e+02    3.66e+02      2              \n",
      "  43  0.00e+00  1.80e+02  1.81e+01  1.80e+02    2.03e+02      2              \n",
      "  44  0.00e+00  1.79e+02  1.82e+01  1.79e+02    1.46e+03      4   Skip BFGS  \n",
      "  45  0.00e+00  1.79e+02  1.82e+01  1.79e+02    1.95e+02      2              \n",
      "  46  0.00e+00  1.79e+02  1.81e+01  1.79e+02    8.43e+02      2              \n",
      "  47  0.00e+00  1.78e+02  1.82e+01  1.78e+02    1.72e+02      1              \n",
      "  48  0.00e+00  1.78e+02  1.82e+01  1.78e+02    1.01e+03      3              \n",
      "  49  0.00e+00  1.78e+02  1.81e+01  1.78e+02    3.19e+01      0              \n",
      "  50  0.00e+00  1.77e+02  1.79e+01  1.77e+02    2.16e+01      4   Skip BFGS  \n",
      "------------------------- STOP! -------------------------\n",
      "1 : |fc-fOld| = 6.3658e-01 <= tolF*(1+|f0|) = 3.0259e+06\n",
      "0 : |xc-x_last| = 5.5044e-02 <= tolX*(1+|x0|) = 8.1704e-03\n",
      "0 : |proj(x-g)-x|    = 2.1643e+01 <= tolG          = 1.0000e-01\n",
      "0 : |proj(x-g)-x|    = 2.1643e+01 <= 1e3*eps       = 1.0000e-02\n",
      "1 : maxIter   =      50    <= iter          =     50\n",
      "------------------------- DONE! -------------------------\n"
     ]
    }
   ],
   "source": [
    "survey.dobs = dtrue +noise\n",
    "dmis = DataMisfit.l2_DataMisfit(survey)\n",
    "dmis.Wd = 1./(0.1*abs(dtrue)+abs(dini).min()*0.1)\n",
    "reg = Regularization.BaseRegularization(m1D)\n",
    "opt = Optimization.InexactGaussNewton(maxIter=50,tolX=1e-3, maxIterLS=20)\n",
    "opt.remember('xc')\n",
    "invProb = InvProblem.BaseInvProblem(dmis, reg, opt)\n",
    "invProb.beta = 0.\n",
    "betaSched = Directives.BetaSchedule(coolingFactor=1, coolingRate=1)\n",
    "targetmis = Directives.TargetMisfit()\n",
    "savemodel = Directives.SaveModelEveryIteration()\n",
    "inv = Inversion.BaseInversion(invProb, directiveList=[betaSched,targetmis])\n",
    "reg.mref = m0\n",
    "mopt = inv.run(m0)"
   ]
  },
  {
   "cell_type": "code",
   "execution_count": 45,
   "metadata": {
    "collapsed": false
   },
   "outputs": [],
   "source": [
    "# invProb.beta = 0.\n",
    "# mopt = inv.run(mopt)"
   ]
  },
  {
   "cell_type": "code",
   "execution_count": 46,
   "metadata": {
    "collapsed": true
   },
   "outputs": [],
   "source": [
    "XC = opt.recall('xc')"
   ]
  },
  {
   "cell_type": "code",
   "execution_count": 47,
   "metadata": {
    "collapsed": true
   },
   "outputs": [],
   "source": [
    "from ipywidgets import interact, IntSlider"
   ]
  },
  {
   "cell_type": "code",
   "execution_count": 51,
   "metadata": {
    "collapsed": false
   },
   "outputs": [],
   "source": [
    "def viewInv(iteration):\n",
    "    fig  = plt.figure(num=0,figsize = (10,5))\n",
    "    ax = plt.subplot(111)\n",
    "    dat = mesh.plotImage(np.log10(mapping*XC[iteration]), grid=False, ax=ax, clim=(-2, 0))\n",
    "#     ax.set_xlim(mesh.vectorNx.min(), mesh.vectorNx.max())\n",
    "#     ax.set_ylim(mesh.vectorNy.min(), mesh.vectorNy.max())\n",
    "    ax.plot(mesh.vectorCCx, dpred, 'w.-')\n",
    "#     plt.colorbar(dat[0], ax=ax)\n",
    "#     ax.set_ylim (-15, 0.)\n",
    "#     ax.set_xlim (-15, 15.)\n",
    "    plt.show()\n",
    "    return True"
   ]
  },
  {
   "cell_type": "code",
   "execution_count": 52,
   "metadata": {
    "collapsed": false
   },
   "outputs": [
    {
     "data": {
      "image/png": "[encoded data removed]",
      "text/plain": [
       "<matplotlib.figure.Figure at 0x112ec9590>"
      ]
     },
     "metadata": {},
     "output_type": "display_data"
    },
    {
     "data": {
      "text/plain": [
       "True"
      ]
     },
     "metadata": {},
     "output_type": "display_data"
    }
   ],
   "source": [
    "interact(viewInv, iteration = IntSlider(min=0, max=opt.iter-1,step=1, value=0))"
   ]
  },
  {
   "cell_type": "code",
   "execution_count": 50,
   "metadata": {
    "collapsed": false
   },
   "outputs": [
    {
     "data": {
      "text/plain": [
       "<matplotlib.colorbar.Colorbar instance at 0x113b12ab8>"
      ]
     },
     "execution_count": 50,
     "metadata": {},
     "output_type": "execute_result"
    },
    {
     "data": {
      "image/png": "[encoded data removed]",
      "text/plain": [
       "<matplotlib.figure.Figure at 0x10f4d0250>"
      ]
     },
     "metadata": {},
     "output_type": "display_data"
    }
   ],
   "source": [
    "\n",
    "figsize(14*0.5,7*0.5)\n",
    "circmodelest = mapping*mopt\n",
    "dat = mesh.plotImage(np.log10(circmodelest))\n",
    "plot(xz_A[:,0], xz_A[:,1], 'w.')\n",
    "plot(xz_B[:,0], xz_B[:,1], 'k.')\n",
    "plot(xz_N[:,0], xz_N[:,1], 'r.')\n",
    "plot(mesh.vectorCCx, dpred, 'w.-')\n",
    "# plot(temp.rxList[0].locs[0][:,0], temp.rxList[0].locs[0][:,1], 'bo')\n",
    "plt.colorbar(dat[0])"
   ]
  }
 ],
 "metadata": {
  "kernelspec": {
   "display_name": "Python 2",
   "language": "python",
   "name": "python2"
  },
  "language_info": {
   "codemirror_mode": {
    "name": "ipython",
    "version": 2
   },
   "file_extension": ".py",
   "mimetype": "text/x-python",
   "name": "python",
   "nbconvert_exporter": "python",
   "pygments_lexer": "ipython2",
   "version": "2.7.10"
  }
 },
 "nbformat": 4,
 "nbformat_minor": 0
}
